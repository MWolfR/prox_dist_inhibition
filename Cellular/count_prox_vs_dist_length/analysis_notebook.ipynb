{
 "cells": [
  {
   "cell_type": "code",
   "execution_count": null,
   "metadata": {},
   "outputs": [
    {
     "data": {
      "application/vnd.jupyter.widget-view+json": {
       "model_id": "c4d74b9522504f6f94c37a47bf34defc",
       "version_major": 2,
       "version_minor": 0
      },
      "text/plain": [
       "Dropdown(description='Choose format to load', options=('/C060114A5.asc', '/C060114A5.swc'), value='/C060114A5.…"
      ]
     },
     "metadata": {},
     "output_type": "display_data"
    }
   ],
   "source": [
    "import pandas\n",
    "import zipfile\n",
    "import neurom\n",
    "import os\n",
    "import numpy\n",
    "\n",
    "from ipywidgets import widgets, interact\n",
    "from matplotlib import pyplot as plt\n",
    "\n",
    "import neurom.apps\n",
    "import neurom.check\n",
    "import neurom.check.morphology_checks\n",
    "import neurom.features\n",
    "import neurom.geom\n",
    "import neurom.stats\n",
    "\n",
    "# Fill in here the name of the morphology to analyze, as downloaded from the platform.\n",
    "fn_morphology = \"download.zip\"\n",
    "\n",
    "# Got this to work. But it reads the whole file at once into memory.\n",
    "fn_metadata = \"metadata.json\"\n",
    "\n",
    "try:\n",
    "    f_zip = zipfile.ZipFile(fn_morphology)\n",
    "except zipfile.BadZipFile as e:\n",
    "    print(f\"Zip archive appears to be malformed: {e}\")\n",
    "    raise\n",
    "\n",
    "zip_contents = list(f_zip.namelist())\n",
    "zip_contents = [_x for _x in zip_contents if os.path.splitext(_x)[1] != \".h5\"]\n",
    "\n",
    "def morphology_from_zip(z_obj, fn):\n",
    "    extension = os.path.split(fn)[1][1:]\n",
    "    with z_obj.open(fn, \"r\") as fid:\n",
    "        m_str = fid.read().decode(\"UTF-8\")\n",
    "    try:\n",
    "        m = neurom.load_morphology(m_str, reader=extension)\n",
    "    except Exception as e:\n",
    "        print(\"Trouble with \" + fn + \": \" + str(e))\n",
    "        return None\n",
    "    return m\n",
    "\n",
    "\n",
    "extension_wdgt = widgets.Dropdown(options=zip_contents, description=\"Choose format to load\")\n",
    "display(extension_wdgt)\n"
   ]
  },
  {
   "cell_type": "code",
   "execution_count": 94,
   "metadata": {},
   "outputs": [
    {
     "data": {
      "text/plain": [
       "'Loaded morphology with 11 neurites of a total length of 21728.72217941284 um.'"
      ]
     },
     "metadata": {},
     "output_type": "display_data"
    }
   ],
   "source": [
    "morph = morphology_from_zip(f_zip, extension_wdgt.value)\n",
    "_str = \"\"\"Loaded morphology with {0} neurites of a total length of {1} um.\"\"\"\n",
    "display(_str.format(\n",
    "    neurom.features.get(\"number_of_neurites\", morph),\n",
    "    numpy.sum(neurom.features.get(\"total_length_per_neurite\", morph))\n",
    "))"
   ]
  },
  {
   "cell_type": "markdown",
   "metadata": {},
   "source": [
    "We calculate for each segment of each neurite its path distance from the soma and its length.\n",
    "\n",
    "The result is put into a handy DataFrame. For the calculations we use the neurom package."
   ]
  },
  {
   "cell_type": "code",
   "execution_count": 95,
   "metadata": {},
   "outputs": [
    {
     "data": {
      "text/html": [
       "<div>\n",
       "<style scoped>\n",
       "    .dataframe tbody tr th:only-of-type {\n",
       "        vertical-align: middle;\n",
       "    }\n",
       "\n",
       "    .dataframe tbody tr th {\n",
       "        vertical-align: top;\n",
       "    }\n",
       "\n",
       "    .dataframe thead th {\n",
       "        text-align: right;\n",
       "    }\n",
       "</style>\n",
       "<table border=\"1\" class=\"dataframe\">\n",
       "  <thead>\n",
       "    <tr style=\"text-align: right;\">\n",
       "      <th></th>\n",
       "      <th>lengths</th>\n",
       "      <th>pd</th>\n",
       "      <th>index</th>\n",
       "      <th>type</th>\n",
       "    </tr>\n",
       "  </thead>\n",
       "  <tbody>\n",
       "    <tr>\n",
       "      <th>0</th>\n",
       "      <td>0.000000</td>\n",
       "      <td>0.000000</td>\n",
       "      <td>0</td>\n",
       "      <td>NeuriteType.axon</td>\n",
       "    </tr>\n",
       "    <tr>\n",
       "      <th>1</th>\n",
       "      <td>2.015146</td>\n",
       "      <td>2.015146</td>\n",
       "      <td>0</td>\n",
       "      <td>NeuriteType.axon</td>\n",
       "    </tr>\n",
       "    <tr>\n",
       "      <th>2</th>\n",
       "      <td>1.660789</td>\n",
       "      <td>3.675935</td>\n",
       "      <td>0</td>\n",
       "      <td>NeuriteType.axon</td>\n",
       "    </tr>\n",
       "    <tr>\n",
       "      <th>3</th>\n",
       "      <td>1.565399</td>\n",
       "      <td>5.241334</td>\n",
       "      <td>0</td>\n",
       "      <td>NeuriteType.axon</td>\n",
       "    </tr>\n",
       "    <tr>\n",
       "      <th>4</th>\n",
       "      <td>2.077421</td>\n",
       "      <td>7.318755</td>\n",
       "      <td>0</td>\n",
       "      <td>NeuriteType.axon</td>\n",
       "    </tr>\n",
       "  </tbody>\n",
       "</table>\n",
       "</div>"
      ],
      "text/plain": [
       "    lengths        pd  index              type\n",
       "0  0.000000  0.000000      0  NeuriteType.axon\n",
       "1  2.015146  2.015146      0  NeuriteType.axon\n",
       "2  1.660789  3.675935      0  NeuriteType.axon\n",
       "3  1.565399  5.241334      0  NeuriteType.axon\n",
       "4  2.077421  7.318755      0  NeuriteType.axon"
      ]
     },
     "metadata": {},
     "output_type": "display_data"
    }
   ],
   "source": [
    "res = pandas.concat([\n",
    "    pandas.DataFrame({\"lengths\": neurom.features.neurite.segment_lengths(_nrt),\n",
    "                    \"pd\": neurom.features.neurite.segment_path_lengths(_nrt),\n",
    "                    \"index\": i, \"type\": _nrt.type\n",
    "                    })\n",
    "    for i, _nrt in enumerate(morph.neurites)\n",
    "], axis=0)\n",
    "\n",
    "display(res.head())"
   ]
  },
  {
   "cell_type": "code",
   "execution_count": 96,
   "metadata": {},
   "outputs": [
    {
     "data": {
      "application/vnd.jupyter.widget-view+json": {
       "model_id": "404b3c794bc34c6ba1ee10195071f854",
       "version_major": 2,
       "version_minor": 0
      },
      "text/plain": [
       "interactive(children=(SelectMultiple(description='Neurite types', options=(<NeuriteType.axon: 2>, <NeuriteType…"
      ]
     },
     "metadata": {},
     "output_type": "display_data"
    },
    {
     "data": {
      "text/plain": [
       "<function __main__.calculate_results(vld_types, vld_range, show=True)>"
      ]
     },
     "execution_count": 96,
     "metadata": {},
     "output_type": "execute_result"
    }
   ],
   "source": [
    "def calculate_results(vld_types, vld_range, show=True):\n",
    "    msg = \"You selected to measure the length of {0}\\nbetween {1} and {2} um from the soma.\"\n",
    "    if show:\n",
    "        print(msg.format(vld_types, vld_range[0], vld_range[1]))\n",
    "\n",
    "    fltr = (res[\"type\"].isin(list(vld_types))) &\\\n",
    "    (res[\"pd\"] >= vld_range[0]) & (res[\"pd\"] < vld_range[1])\n",
    "    ttl_len = res.loc[fltr][\"lengths\"].sum()\n",
    "    if show:\n",
    "        print(\"\\nThe result in um is shown below:\")\n",
    "    return ttl_len\n",
    "\n",
    "\n",
    "sel_types = widgets.SelectMultiple(options=res[\"type\"].drop_duplicates(),\n",
    "                                    index=[],\n",
    "                                    description=\"Neurite types\")\n",
    "sel_range = widgets.IntRangeSlider(min=0, max=2000, step=1, description=\"Select range\")\n",
    "interact(calculate_results, vld_types=sel_types, vld_range=sel_range)"
   ]
  },
  {
   "cell_type": "markdown",
   "metadata": {},
   "source": [
    "While the above is nice for interactive exploration, the below assigns results to variables that can be used for further analyses."
   ]
  },
  {
   "cell_type": "code",
   "execution_count": 93,
   "metadata": {},
   "outputs": [
    {
     "name": "stdout",
     "output_type": "stream",
     "text": [
      "The ratio of proximal over distal dendrite length is 1.3316047607143808\n",
      "\n",
      "250 synapses require a mean length density of 0.07608212040855789 on proximal dendrites.\n",
      "250 synapses require a mean length density of 0.10131131374128044 on distal dendrites.\n",
      "\n"
     ]
    }
   ],
   "source": [
    "cutoff_proximal = (0, 100)\n",
    "cutoff_distal = (100, 250)\n",
    "used_neurite_types = [neurom.NeuriteType.basal_dendrite, neurom.NeuriteType.apical_dendrite]\n",
    "tgt_total_count = 250\n",
    "\n",
    "len_proximal = calculate_results(used_neurite_types, cutoff_proximal, show=False)\n",
    "len_distal = calculate_results(used_neurite_types, cutoff_distal, show=False)\n",
    "\n",
    "print(\"The ratio of proximal over distal dendrite length is {0}\".format(\n",
    "    len_proximal / len_distal\n",
    "))\n",
    "\n",
    "req_for_tgt_prox = tgt_total_count / len_proximal\n",
    "req_for_tgt_dist = tgt_total_count / len_distal\n",
    "\n",
    "print(\"\"\"\n",
    "{0} synapses require a mean length density of {1} on proximal dendrites.\n",
    "{0} synapses require a mean length density of {2} on distal dendrites.\n",
    "\"\"\".format(tgt_total_count, req_for_tgt_prox, req_for_tgt_dist))\n"
   ]
  }
 ],
 "metadata": {
  "kernelspec": {
   "display_name": "display_morphology_population_features",
   "language": "python",
   "name": "python3"
  },
  "language_info": {
   "codemirror_mode": {
    "name": "ipython",
    "version": 3
   },
   "file_extension": ".py",
   "mimetype": "text/x-python",
   "name": "python",
   "nbconvert_exporter": "python",
   "pygments_lexer": "ipython3",
   "version": "3.13.1"
  }
 },
 "nbformat": 4,
 "nbformat_minor": 2
}
