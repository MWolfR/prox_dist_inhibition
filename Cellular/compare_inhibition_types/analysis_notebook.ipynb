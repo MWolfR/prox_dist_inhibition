{
 "cells": [
  {
   "cell_type": "code",
   "execution_count": null,
   "metadata": {},
   "outputs": [],
   "source": [
    "import pandas\n",
    "import zipfile\n",
    "import json\n",
    "\n",
    "from matplotlib import pyplot as plt\n",
    "\n",
    "\n",
    "fns = {\n",
    "    \"exc-only\": \"./download-exc_only.zip\",\n",
    "    \"inh-prox\": \"./download-inh_prox.zip\",\n",
    "    \"inh-dist\": \"./download-inh_dist.zip\"\n",
    "}\n",
    "freq_e_used = 5\n",
    "\n",
    "f_zip = dict([\n",
    "    (k, zipfile.ZipFile(v))\n",
    "    for k, v in fns.items()\n",
    "])"
   ]
  },
  {
   "cell_type": "markdown",
   "metadata": {},
   "source": [
    "## Read in data"
   ]
  },
  {
   "cell_type": "code",
   "execution_count": 2,
   "metadata": {},
   "outputs": [],
   "source": [
    "data_keys = [\"x\", \"y\"]\n",
    "\n",
    "def entries_to_df(entries):\n",
    "    data = []    \n",
    "    for entry in entries:\n",
    "        df = pandas.DataFrame(dict([(k, entry.pop(k)) for k in data_keys]))\n",
    "        for k, v in entry.items():\n",
    "            df[k] = v\n",
    "        data.append(df)\n",
    "    ret = pandas.concat(data, axis=0)\n",
    "    cols = [_c for _c in ret.columns if _c not in data_keys]\n",
    "    ret = ret.fillna(\"_NONE\").set_index(cols)\n",
    "    return ret\n",
    "\n",
    "def read_list_of_entries(lst):\n",
    "    data = pandas.concat([entries_to_df(_v) for _v in lst.values()], axis=0)\n",
    "    return data\n",
    "\n",
    "def read_sim_config_data(fid):\n",
    "    cfg = json.load(fid)\n",
    "    data_out = read_list_of_entries(cfg[\"simulation\"])\n",
    "    stim_out = entries_to_df(cfg[\"stimulus\"])\n",
    "    return data_out, stim_out\n",
    "\n",
    "def read_all_contents(f_zip):\n",
    "    all_data = []; all_stim = []\n",
    "    for fn in f_zip.filelist:\n",
    "        with f_zip.open(fn) as fid:\n",
    "            data, stim = read_sim_config_data(fid)\n",
    "            all_data.append(data); all_stim.append(stim)\n",
    "    all_stim = pandas.concat(all_stim, axis=0, keys=range(len(all_stim)), names=[\"repetition\"])\n",
    "    all_data = pandas.concat(all_data, axis=0, keys=range(len(all_data)), names=[\"repetition\"])\n",
    "    return (all_stim, all_data)\n",
    "\n",
    "contents = dict([\n",
    "    (k, read_all_contents(v))\n",
    "    for k, v in f_zip.items()\n",
    "])\n"
   ]
  },
  {
   "cell_type": "markdown",
   "metadata": {},
   "source": [
    "## Perform simple spike counting"
   ]
  },
  {
   "cell_type": "code",
   "execution_count": 3,
   "metadata": {},
   "outputs": [],
   "source": [
    "def simple_spike_counter(stim_rec_tuple):\n",
    "    _, rec_df = stim_rec_tuple\n",
    "    # This simple spike counter simply detects crossing 0 mV.\n",
    "    zero_crossings = (rec_df[\"y\"].values[:-1] < 0) & (rec_df[\"y\"].values[1:] >= 0)\n",
    "    t_spikes = rec_df[\"x\"].iloc[1:][zero_crossings]\n",
    "    t_spikes.name = \"spike-count\"\n",
    "\n",
    "    return t_spikes.groupby(t_spikes.index.names).count()\n",
    "\n",
    "spike_counts = dict([\n",
    "    (k, simple_spike_counter(v))\n",
    "    for k, v in contents.items()\n",
    "])"
   ]
  },
  {
   "cell_type": "markdown",
   "metadata": {},
   "source": [
    "## Focus on conditions of interest and reformat data representation"
   ]
  },
  {
   "cell_type": "code",
   "execution_count": 4,
   "metadata": {},
   "outputs": [],
   "source": [
    "cols_to_drop = [\"type\", \"name\", \"recording\", \"varying_key\"]\n",
    "cols_of_interest = [\"amplitude\", \"freq-e\", \"freq-i-prox\", \"freq-i-dist\"]\n",
    "\n",
    "df = spike_counts[\"exc-only\"].reset_index()\n",
    "df = df.drop(columns=cols_to_drop).rename(columns={\"frequency\": \"freq-e\"})\n",
    "df[\"freq-i-prox\"] = 0\n",
    "df[\"freq-i-dist\"] = 0\n",
    "spike_counts[\"exc-only\"] = df\n",
    "\n",
    "df = spike_counts[\"inh-prox\"].reset_index()\n",
    "df = df.drop(columns=cols_to_drop).rename(columns={\"frequency\": \"freq-i-prox\"})\n",
    "df[\"freq-e\"] = freq_e_used\n",
    "df[\"freq-i-dist\"] = 0\n",
    "spike_counts[\"inh-prox\"] = df\n",
    "\n",
    "df = spike_counts[\"inh-dist\"].reset_index()\n",
    "df = df.drop(columns=cols_to_drop).rename(columns={\"frequency\": \"freq-i-dist\"})\n",
    "df[\"freq-e\"] = freq_e_used\n",
    "df[\"freq-i-prox\"] = 0\n",
    "spike_counts[\"inh-dist\"] = df"
   ]
  },
  {
   "cell_type": "code",
   "execution_count": 5,
   "metadata": {},
   "outputs": [
    {
     "name": "stderr",
     "output_type": "stream",
     "text": [
      "/var/folders/py/wqmt8l2s5zb8fhrxbd_b258w0000gn/T/ipykernel_43394/2850644385.py:7: PerformanceWarning: indexing past lexsort depth may impact performance.\n",
      "  plt.plot(spike_count_df_ro[(0, 0, 0)], marker='o', label=\"Excitation only\")\n"
     ]
    },
    {
     "data": {
      "image/png": "[encoded data removed]",
      "text/plain": [
       "<Figure size 300x200 with 1 Axes>"
      ]
     },
     "metadata": {},
     "output_type": "display_data"
    },
    {
     "data": {
      "image/png": "[encoded data removed]",
      "text/plain": [
       "<Figure size 300x200 with 1 Axes>"
      ]
     },
     "metadata": {},
     "output_type": "display_data"
    }
   ],
   "source": [
    "spike_count_df = pandas.concat(list(spike_counts.values()), axis=0)\n",
    "\n",
    "spike_count_df = spike_count_df.groupby(cols_of_interest)[\"spike-count\"].mean()\n",
    "spike_count_df_ro = spike_count_df.reorder_levels([\"amplitude\", \"freq-i-prox\", \"freq-i-dist\", \"freq-e\"])\n",
    "\n",
    "plt.figure(figsize=(3, 2))\n",
    "plt.plot(spike_count_df_ro[(0, 0, 0)], marker='o', label=\"Excitation only\")\n",
    "plt.arrow(freq_e_used, 4, 0, -4, head_width=0.2)\n",
    "plt.legend()\n",
    "plt.gca().set_xlabel(\"Exc. frequency\")\n",
    "plt.gca().set_ylabel(\"Spike count\")\n",
    "plt.gca().set_frame_on(False)\n",
    "\n",
    "plt.figure(figsize=(3, 2))\n",
    "plt.plot(spike_count_df[(0, freq_e_used)].unstack(\"freq-i-dist\")[0], marker='o', label=\"Proximal inhibition\")\n",
    "plt.plot(spike_count_df[(0, freq_e_used)].unstack(\"freq-i-prox\")[0], marker='o', label=\"Distal inhibition\")\n",
    "plt.legend()\n",
    "plt.gca().set_xlabel(\"Inh. frequency\")\n",
    "plt.gca().set_ylabel(\"Spike count\")\n",
    "plt.gca().set_frame_on(False)"
   ]
  }
 ],
 "metadata": {
  "kernelspec": {
   "display_name": "synaptome_sim_analysis",
   "language": "python",
   "name": "python3"
  },
  "language_info": {
   "codemirror_mode": {
    "name": "ipython",
    "version": 3
   },
   "file_extension": ".py",
   "mimetype": "text/x-python",
   "name": "python",
   "nbconvert_exporter": "python",
   "pygments_lexer": "ipython3",
   "version": "3.13.1"
  }
 },
 "nbformat": 4,
 "nbformat_minor": 2
}
